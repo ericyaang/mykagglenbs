{
 "cells": [
  {
   "cell_type": "markdown",
   "id": "de2233c8",
   "metadata": {
    "papermill": {
     "duration": 0.0228,
     "end_time": "2022-04-01T21:11:19.092250",
     "exception": false,
     "start_time": "2022-04-01T21:11:19.069450",
     "status": "completed"
    },
    "tags": []
   },
   "source": [
    "# Traffic flow of Metropolis\n",
    "\n",
    "## Goal\n",
    "\n",
    "- Predict the next 12 hours of traffic flow in a U.S. metropolis.\n",
    "\n",
    "## Metric\n",
    "- Mean absolute error between predicted and actual congestion.\n",
    "\n",
    "$$ MAE = \\sum_{i=1}^{n} |y_{i}-x_{i}| \\over n$$\n",
    "\n",
    "## Data\n",
    "\n",
    "- `row_id`: a unique identifier for this instance\n",
    "- `time`: the 20-minute period in which each measurement was taken\n",
    "- `x`: the east-west midpoint coordinate of the roadway\n",
    "- `y`: the north-south midpoint coordinate of the roadway\n",
    "- `direction`: the direction of travel of the roadway. EB indicates \"eastbound\" travel, for example, while SW indicates a \"southwest\" direction of travel.\n",
    "- `congestion` <font color=\"red\"><b>(target)</b></font>: congestion levels for the roadway during each hour; the target. The congestion measurements have been normalized to the range 0 to 100."
   ]
  },
  {
   "cell_type": "markdown",
   "id": "00099354",
   "metadata": {
    "papermill": {
     "duration": 0.018598,
     "end_time": "2022-04-01T21:11:19.133918",
     "exception": false,
     "start_time": "2022-04-01T21:11:19.115320",
     "status": "completed"
    },
    "tags": []
   },
   "source": [
    "## Load packages and data"
   ]
  },
  {
   "cell_type": "code",
   "execution_count": 1,
   "id": "8d248f4d",
   "metadata": {
    "_cell_guid": "b1076dfc-b9ad-4769-8c92-a6c4dae69d19",
    "_uuid": "8f2839f25d086af736a60e9eeb907d3b93b6e0e5",
    "execution": {
     "iopub.execute_input": "2022-04-01T21:11:19.187540Z",
     "iopub.status.busy": "2022-04-01T21:11:19.178663Z",
     "iopub.status.idle": "2022-04-01T21:11:36.540946Z",
     "shell.execute_reply": "2022-04-01T21:11:36.540353Z",
     "shell.execute_reply.started": "2022-03-31T19:13:01.287314Z"
    },
    "papermill": {
     "duration": 17.390313,
     "end_time": "2022-04-01T21:11:36.541097",
     "exception": false,
     "start_time": "2022-04-01T21:11:19.150784",
     "status": "completed"
    },
    "tags": []
   },
   "outputs": [
    {
     "name": "stdout",
     "output_type": "stream",
     "text": [
      "Collecting catch22\r\n",
      "  Downloading catch22-0.2.0.tar.gz (28 kB)\r\n",
      "  Preparing metadata (setup.py) ... \u001b[?25l-\b \b\\\b \bdone\r\n",
      "\u001b[?25hBuilding wheels for collected packages: catch22\r\n",
      "  Building wheel for catch22 (setup.py) ... \u001b[?25l-\b \b\\\b \b|\b \b/\b \b-\b \b\\\b \b|\b \b/\b \b-\b \b\\\b \b|\b \b/\b \b-\b \b\\\b \b|\b \b/\b \b-\b \bdone\r\n",
      "\u001b[?25h  Created wheel for catch22: filename=catch22-0.2.0-cp37-cp37m-linux_x86_64.whl size=147098 sha256=ee4c35b3728cc37e0134dbb95ced9fb10c69aafe2306752d9f5aa1a8a4f967ad\r\n",
      "  Stored in directory: /root/.cache/pip/wheels/df/0b/f1/d6442e61fab7d543943fc539691cfffcd020e9275b8814183f\r\n",
      "Successfully built catch22\r\n",
      "Installing collected packages: catch22\r\n",
      "Successfully installed catch22-0.2.0\r\n",
      "\u001b[33mWARNING: Running pip as the 'root' user can result in broken permissions and conflicting behaviour with the system package manager. It is recommended to use a virtual environment instead: https://pip.pypa.io/warnings/venv\u001b[0m\r\n"
     ]
    }
   ],
   "source": [
    "import numpy as np\n",
    "import pandas as pd\n",
    "import matplotlib.pyplot  as plt\n",
    "import seaborn as sns\n",
    "import xgboost as xgb\n",
    "from sklearn.metrics import mean_absolute_error\n",
    "import datetime as dt\n",
    "import warnings\n",
    "!pip install catch22\n",
    "import catch22\n",
    "\n",
    "warnings.filterwarnings(\"ignore\")\n",
    "\n",
    "train = pd.read_csv(\"../input/tabular-playground-series-mar-2022/train.csv\", index_col=\"row_id\", parse_dates=['time'])\n",
    "test = pd.read_csv(\"../input/tabular-playground-series-mar-2022/test.csv\", index_col=\"row_id\", parse_dates=['time'])\n",
    "sub = pd.read_csv(\"../input/tabular-playground-series-mar-2022/sample_submission.csv\", index_col=\"row_id\")"
   ]
  },
  {
   "cell_type": "markdown",
   "id": "f1913cc7",
   "metadata": {
    "papermill": {
     "duration": 0.017654,
     "end_time": "2022-04-01T21:11:36.577385",
     "exception": false,
     "start_time": "2022-04-01T21:11:36.559731",
     "status": "completed"
    },
    "tags": []
   },
   "source": [
    "## Preprocessing"
   ]
  },
  {
   "cell_type": "code",
   "execution_count": 2,
   "id": "6892c10d",
   "metadata": {
    "execution": {
     "iopub.execute_input": "2022-04-01T21:11:36.637692Z",
     "iopub.status.busy": "2022-04-01T21:11:36.636799Z",
     "iopub.status.idle": "2022-04-01T21:14:25.671006Z",
     "shell.execute_reply": "2022-04-01T21:14:25.670049Z",
     "shell.execute_reply.started": "2022-03-31T19:13:02.248968Z"
    },
    "papermill": {
     "duration": 169.076508,
     "end_time": "2022-04-01T21:14:25.671161",
     "exception": false,
     "start_time": "2022-04-01T21:11:36.594653",
     "status": "completed"
    },
    "tags": []
   },
   "outputs": [],
   "source": [
    "def add_vars(df):\n",
    "    df[\"road\"] = df['x'].astype(str) + df['y'].astype(str) + df['direction'].astype(str)\n",
    "    df[\"month\"]= df.time.dt.month\n",
    "    df[\"week\"]= df.time.dt.week\n",
    "    df['weekend'] = (df.time.dt.weekday >= 5).astype(\"int8\")\n",
    "    df[\"day\"]= df.time.dt.day\n",
    "    df['hour'] = df.time.dt.hour\n",
    "    df['afternoon'] = (df.hour >= 12).astype(\"int8\")\n",
    "    df['minute'] = df.time.dt.minute\n",
    "    df['moment']  = df.time.dt.hour * 3 + df.time.dt.minute // 20\n",
    "    df['dow'] = df.time.dt.dayofweek\n",
    "    df['rolling_7_std'] = train.groupby(['road', 'dow', 'hour', 'minute'])['congestion'].transform(lambda x: x.rolling(7).std())\n",
    "    df['yesterday'] = train.groupby(['road', 'dow', 'hour', 'minute'])['congestion'].transform(lambda x: x.shift(1))\n",
    "    df['lastweek'] = train.groupby(['road', 'dow', 'hour', 'minute'])['congestion'].transform(lambda x: x.shift(7))\n",
    "    df['SB_BinaryStats_mean_longstretch1'] = train.groupby(['road', 'dow', 'hour', 'minute'])['congestion'].transform(lambda x: catch22.SB_BinaryStats_mean_longstretch1(x.dropna().tolist()))\n",
    "    df['DN_OutlierInclude_n_001_mdrmd'] = train.groupby(['road', 'dow', 'hour', 'minute'])['congestion'].transform(lambda x: catch22.DN_OutlierInclude_n_001_mdrmd(x.dropna().tolist()))\n",
    "    df['DN_OutlierInclude_p_001_mdrmd'] = train.groupby(['road', 'dow', 'hour', 'minute'])['congestion'].transform(lambda x: catch22.DN_OutlierInclude_p_001_mdrmd(x.dropna().tolist()))\n",
    "    df['CO_f1ecac'] = train.groupby(['road', 'dow', 'hour', 'minute'])['congestion'].transform(lambda x: catch22.CO_f1ecac(x.dropna().tolist()))\n",
    "    df['CO_FirstMin_ac'] = train.groupby(['road', 'dow', 'hour', 'minute'])['congestion'].transform(lambda x: catch22.CO_FirstMin_ac(x.dropna().tolist()))\n",
    "    df['CO_trev_1_num'] = train.groupby(['road', 'dow', 'hour', 'minute'])['congestion'].transform(lambda x: catch22.CO_trev_1_num(x.dropna().tolist()))\n",
    "    df['MD_hrv_classic_pnn40'] = train.groupby(['road', 'dow', 'hour', 'minute'])['congestion'].transform(lambda x: catch22.MD_hrv_classic_pnn40(x.dropna().tolist()))\n",
    "    df['PD_PeriodicityWang_th0_01'] = train.groupby(['road', 'dow', 'hour', 'minute'])['congestion'].transform(lambda x: catch22.PD_PeriodicityWang_th0_01(x.dropna().tolist()))\n",
    "    df['SB_BinaryStats_diff_longstretch0'] = train.groupby(['road', 'dow', 'hour', 'minute'])['congestion'].transform(lambda x: catch22.SB_BinaryStats_diff_longstretch0(x.dropna().tolist()))    \n",
    "    df['MD_hrv_classic_pnn40'] = train.groupby(['road', 'dow', 'hour', 'minute'])['congestion'].transform(lambda x: catch22.MD_hrv_classic_pnn40(x.dropna().tolist()))    \n",
    "      \n",
    "    # agg vars\n",
    "    agg_df =  pd.DataFrame(train.groupby(['road', 'dow', 'hour', 'minute']).agg(\n",
    "            cong_min = ('congestion', min),\n",
    "            cong_max =('congestion', max),\n",
    "            cong_mean =('congestion', np.mean),\n",
    "            cong_median=(\"congestion\", np.median)\n",
    "        ).astype(int)).reset_index()\n",
    "    df = df.merge(agg_df, on=['road', 'dow', 'hour', 'minute'], how='left')\n",
    "    return df\n",
    "\n",
    "train = add_vars(train)\n",
    "test = add_vars(test)\n",
    "\n",
    "train = pd.get_dummies(train, columns=[\"road\", \"direction\"])\n",
    "test = pd.get_dummies(test, columns=[\"road\", \"direction\"])"
   ]
  },
  {
   "cell_type": "markdown",
   "id": "3513ffa8",
   "metadata": {
    "papermill": {
     "duration": 0.017509,
     "end_time": "2022-04-01T21:14:25.706772",
     "exception": false,
     "start_time": "2022-04-01T21:14:25.689263",
     "status": "completed"
    },
    "tags": []
   },
   "source": [
    "## Creating the validation set"
   ]
  },
  {
   "cell_type": "code",
   "execution_count": 3,
   "id": "1066151a",
   "metadata": {
    "execution": {
     "iopub.execute_input": "2022-04-01T21:14:25.749083Z",
     "iopub.status.busy": "2022-04-01T21:14:25.748207Z",
     "iopub.status.idle": "2022-04-01T21:14:26.722936Z",
     "shell.execute_reply": "2022-04-01T21:14:26.722404Z",
     "shell.execute_reply.started": "2022-03-31T19:15:51.081536Z"
    },
    "papermill": {
     "duration": 0.998859,
     "end_time": "2022-04-01T21:14:26.723068",
     "exception": false,
     "start_time": "2022-04-01T21:14:25.724209",
     "status": "completed"
    },
    "tags": []
   },
   "outputs": [],
   "source": [
    "tst_start = pd.to_datetime('1991-09-23 12:00')\n",
    "tst_finish = pd.to_datetime('1991-09-23 23:40')\n",
    "\n",
    "valid_test = train[(train['time'] >= tst_start) & (train['time'] <= tst_finish)]\n",
    "valid_target = valid_test.pop('congestion')\n",
    "\n",
    "valid_sample_submission = valid_test.copy()\n",
    "valid_sample_submission['congestion'] = 50\n",
    "valid_sample_submission = valid_sample_submission['congestion'] \n",
    "\n",
    "valid_train = train[train['time'] < tst_start]\n",
    "\n",
    "X_train_v = valid_train.copy()\n",
    "\n",
    "X_train_v = X_train_v.drop([\"time\"], axis=1)\n",
    "y_train_v = X_train_v['congestion']\n",
    "X_train_v = X_train_v.drop(['congestion'], axis=1)\n",
    "\n",
    "X_test_v = valid_test.drop([\"time\"], axis=1)"
   ]
  },
  {
   "cell_type": "markdown",
   "id": "fa12601b",
   "metadata": {
    "papermill": {
     "duration": 0.017413,
     "end_time": "2022-04-01T21:14:26.757987",
     "exception": false,
     "start_time": "2022-04-01T21:14:26.740574",
     "status": "completed"
    },
    "tags": []
   },
   "source": [
    "## Train the XGboost algorithm"
   ]
  },
  {
   "cell_type": "code",
   "execution_count": 4,
   "id": "d3fad39f",
   "metadata": {
    "execution": {
     "iopub.execute_input": "2022-04-01T21:14:26.799317Z",
     "iopub.status.busy": "2022-04-01T21:14:26.798670Z",
     "iopub.status.idle": "2022-04-01T21:14:42.812047Z",
     "shell.execute_reply": "2022-04-01T21:14:42.812773Z",
     "shell.execute_reply.started": "2022-03-31T19:15:51.999698Z"
    },
    "papermill": {
     "duration": 16.037274,
     "end_time": "2022-04-01T21:14:42.812966",
     "exception": false,
     "start_time": "2022-04-01T21:14:26.775692",
     "status": "completed"
    },
    "tags": []
   },
   "outputs": [
    {
     "name": "stdout",
     "output_type": "stream",
     "text": [
      "[0]\tvalidation_0-mae:46.12010\tvalidation_1-mae:48.15540\n",
      "[100]\tvalidation_0-mae:6.71208\tvalidation_1-mae:5.57676\n",
      "[171]\tvalidation_0-mae:5.66674\tvalidation_1-mae:4.79449\n",
      "oof mae:  4.7675213675213675\n"
     ]
    }
   ],
   "source": [
    "clf = xgb.XGBRegressor(\n",
    "n_estimators = 500,\n",
    "    learning_rate = 0.025,\n",
    "    max_depth = 9,\n",
    "    subsample = 0.8,\n",
    "    colsample_bytree = 0.8,\n",
    "    reg_alpha = 0.1,\n",
    "    random_state=1234,\n",
    "    tree_method = 'gpu_hist'\n",
    ")\n",
    "\n",
    "clf.fit(X_train_v, y_train_v, eval_set = [(X_train_v, y_train_v),(X_test_v, valid_target)],\n",
    "       early_stopping_rounds = 10, verbose = 100, eval_metric = 'mae'\n",
    "       )\n",
    "   \n",
    "pred = np.round(clf.predict(X_test_v))  \n",
    "print('oof mae: ',  mean_absolute_error(valid_target, pred))"
   ]
  },
  {
   "cell_type": "markdown",
   "id": "e736ee3a",
   "metadata": {
    "papermill": {
     "duration": 0.018645,
     "end_time": "2022-04-01T21:14:42.854308",
     "exception": false,
     "start_time": "2022-04-01T21:14:42.835663",
     "status": "completed"
    },
    "tags": []
   },
   "source": [
    "### Feature Importance"
   ]
  },
  {
   "cell_type": "code",
   "execution_count": 5,
   "id": "c828eb76",
   "metadata": {
    "execution": {
     "iopub.execute_input": "2022-04-01T21:14:42.898361Z",
     "iopub.status.busy": "2022-04-01T21:14:42.897650Z",
     "iopub.status.idle": "2022-04-01T21:14:43.315082Z",
     "shell.execute_reply": "2022-04-01T21:14:43.315647Z"
    },
    "papermill": {
     "duration": 0.442559,
     "end_time": "2022-04-01T21:14:43.315828",
     "exception": false,
     "start_time": "2022-04-01T21:14:42.873269",
     "status": "completed"
    },
    "tags": []
   },
   "outputs": [
    {
     "data": {
      "image/png": "[encoded data removed]",
      "text/plain": [
       "<Figure size 1440x720 with 1 Axes>"
      ]
     },
     "metadata": {
      "needs_background": "light"
     },
     "output_type": "display_data"
    }
   ],
   "source": [
    "cols = list(X_train_v.columns)\n",
    "feature_imp = pd.DataFrame(sorted(zip(clf.feature_importances_,cols)), columns=['Value','Feature'])\n",
    "plt.figure(figsize=(20, 10))\n",
    "sns.barplot(x=\"Value\", y=\"Feature\", data=feature_imp.sort_values(by=\"Value\", ascending=False).iloc[:20])\n",
    "plt.title('XGB Most Important Features')\n",
    "plt.tight_layout()\n",
    "plt.show()"
   ]
  },
  {
   "cell_type": "code",
   "execution_count": 6,
   "id": "5adc35da",
   "metadata": {
    "execution": {
     "iopub.execute_input": "2022-04-01T21:14:43.419879Z",
     "iopub.status.busy": "2022-04-01T21:14:43.418641Z",
     "iopub.status.idle": "2022-04-01T21:15:13.121186Z",
     "shell.execute_reply": "2022-04-01T21:15:13.121952Z",
     "shell.execute_reply.started": "2022-03-31T19:32:02.199191Z"
    },
    "papermill": {
     "duration": 29.785014,
     "end_time": "2022-04-01T21:15:13.122135",
     "exception": false,
     "start_time": "2022-04-01T21:14:43.337121",
     "status": "completed"
    },
    "tags": []
   },
   "outputs": [
    {
     "name": "stdout",
     "output_type": "stream",
     "text": [
      "[0]\tvalidation_0-mae:46.13540\n",
      "[100]\tvalidation_0-mae:6.72177\n",
      "[200]\tvalidation_0-mae:5.60516\n",
      "[300]\tvalidation_0-mae:5.44751\n",
      "[400]\tvalidation_0-mae:5.33520\n",
      "[499]\tvalidation_0-mae:5.26098\n"
     ]
    }
   ],
   "source": [
    "# Refit for the entire training set\n",
    "X_train = train.drop(['time','congestion'], axis = 1)\n",
    "y_train = train.congestion\n",
    "X_test = test.drop(['time'], axis = 1)\n",
    "\n",
    "clf.fit(X_train, y_train, eval_set = [(X_train, y_train)],verbose = 100, eval_metric = 'mae')\n",
    "\n",
    "pred_test = np.round(clf.predict(X_test)).astype(\"int8\")"
   ]
  },
  {
   "cell_type": "code",
   "execution_count": 7,
   "id": "58a5e8ff",
   "metadata": {
    "execution": {
     "iopub.execute_input": "2022-04-01T21:15:13.175007Z",
     "iopub.status.busy": "2022-04-01T21:15:13.174447Z",
     "iopub.status.idle": "2022-04-01T21:15:13.191413Z",
     "shell.execute_reply": "2022-04-01T21:15:13.191816Z",
     "shell.execute_reply.started": "2022-03-31T19:32:32.88278Z"
    },
    "papermill": {
     "duration": 0.044069,
     "end_time": "2022-04-01T21:15:13.191972",
     "exception": false,
     "start_time": "2022-04-01T21:15:13.147903",
     "status": "completed"
    },
    "tags": []
   },
   "outputs": [
    {
     "data": {
      "text/html": [
       "<div>\n",
       "<style scoped>\n",
       "    .dataframe tbody tr th:only-of-type {\n",
       "        vertical-align: middle;\n",
       "    }\n",
       "\n",
       "    .dataframe tbody tr th {\n",
       "        vertical-align: top;\n",
       "    }\n",
       "\n",
       "    .dataframe thead th {\n",
       "        text-align: right;\n",
       "    }\n",
       "</style>\n",
       "<table border=\"1\" class=\"dataframe\">\n",
       "  <thead>\n",
       "    <tr style=\"text-align: right;\">\n",
       "      <th></th>\n",
       "      <th>congestion</th>\n",
       "    </tr>\n",
       "    <tr>\n",
       "      <th>row_id</th>\n",
       "      <th></th>\n",
       "    </tr>\n",
       "  </thead>\n",
       "  <tbody>\n",
       "    <tr>\n",
       "      <th>848835</th>\n",
       "      <td>43</td>\n",
       "    </tr>\n",
       "    <tr>\n",
       "      <th>848836</th>\n",
       "      <td>35</td>\n",
       "    </tr>\n",
       "    <tr>\n",
       "      <th>848837</th>\n",
       "      <td>56</td>\n",
       "    </tr>\n",
       "    <tr>\n",
       "      <th>848838</th>\n",
       "      <td>23</td>\n",
       "    </tr>\n",
       "    <tr>\n",
       "      <th>848839</th>\n",
       "      <td>72</td>\n",
       "    </tr>\n",
       "    <tr>\n",
       "      <th>...</th>\n",
       "      <td>...</td>\n",
       "    </tr>\n",
       "    <tr>\n",
       "      <th>851170</th>\n",
       "      <td>68</td>\n",
       "    </tr>\n",
       "    <tr>\n",
       "      <th>851171</th>\n",
       "      <td>36</td>\n",
       "    </tr>\n",
       "    <tr>\n",
       "      <th>851172</th>\n",
       "      <td>69</td>\n",
       "    </tr>\n",
       "    <tr>\n",
       "      <th>851173</th>\n",
       "      <td>16</td>\n",
       "    </tr>\n",
       "    <tr>\n",
       "      <th>851174</th>\n",
       "      <td>42</td>\n",
       "    </tr>\n",
       "  </tbody>\n",
       "</table>\n",
       "<p>2340 rows × 1 columns</p>\n",
       "</div>"
      ],
      "text/plain": [
       "        congestion\n",
       "row_id            \n",
       "848835          43\n",
       "848836          35\n",
       "848837          56\n",
       "848838          23\n",
       "848839          72\n",
       "...            ...\n",
       "851170          68\n",
       "851171          36\n",
       "851172          69\n",
       "851173          16\n",
       "851174          42\n",
       "\n",
       "[2340 rows x 1 columns]"
      ]
     },
     "execution_count": 7,
     "metadata": {},
     "output_type": "execute_result"
    }
   ],
   "source": [
    "sub_gbm=sub.copy()\n",
    "sub_gbm['congestion']=pred_test\n",
    "sub_gbm.to_csv(\"submission.csv\", index=True)\n",
    "sub_gbm"
   ]
  }
 ],
 "metadata": {
  "kernelspec": {
   "display_name": "Python 3",
   "language": "python",
   "name": "python3"
  },
  "language_info": {
   "codemirror_mode": {
    "name": "ipython",
    "version": 3
   },
   "file_extension": ".py",
   "mimetype": "text/x-python",
   "name": "python",
   "nbconvert_exporter": "python",
   "pygments_lexer": "ipython3",
   "version": "3.7.12"
  },
  "papermill": {
   "default_parameters": {},
   "duration": 244.443743,
   "end_time": "2022-04-01T21:15:15.434390",
   "environment_variables": {},
   "exception": null,
   "input_path": "__notebook__.ipynb",
   "output_path": "__notebook__.ipynb",
   "parameters": {},
   "start_time": "2022-04-01T21:11:10.990647",
   "version": "2.3.3"
  }
 },
 "nbformat": 4,
 "nbformat_minor": 5
}
